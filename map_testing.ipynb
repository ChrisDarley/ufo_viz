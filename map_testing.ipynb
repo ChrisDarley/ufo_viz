{
 "cells": [
  {
   "cell_type": "code",
   "execution_count": null,
   "metadata": {},
   "outputs": [],
   "source": [
    "import plotly.graph_objects as go\n",
    "import plotly.express as px\n",
    "import pandas as pd\n",
    "import json\n",
    "import numpy as np"
   ]
  },
  {
   "cell_type": "code",
   "execution_count": null,
   "metadata": {},
   "outputs": [],
   "source": [
    "location = pd.read_csv(\n",
    "    \"location_joined.csv\",\n",
    "    dtype={\"County.FIPS\":object, \"fips\":object},\n",
    "    index_col=\"datetime\", parse_dates=True)"
   ]
  },
  {
   "cell_type": "code",
   "execution_count": null,
   "metadata": {},
   "outputs": [],
   "source": [
    "with open(\"counties.json\", \"r\") as f:\n",
    "    geojson = json.load(f)"
   ]
  },
  {
   "cell_type": "code",
   "execution_count": null,
   "metadata": {},
   "outputs": [],
   "source": [
    "counties = pd.read_csv(\n",
    "    \"county_fips.csv\", index_col=0, dtype={\"fips\":object})"
   ]
  },
  {
   "cell_type": "code",
   "execution_count": null,
   "metadata": {},
   "outputs": [],
   "source": [
    "px.choropleth(\n",
    "    data_frame=location, geojson=geojson, locations=\"County.FIPS\",color=\"duration_seconds\",scope='usa')"
   ]
  },
  {
   "cell_type": "code",
   "execution_count": null,
   "metadata": {},
   "outputs": [],
   "source": [
    "location.columns"
   ]
  },
  {
   "cell_type": "code",
   "execution_count": null,
   "metadata": {},
   "outputs": [],
   "source": [
    "# First, I will need to devise some sort of imputation method for missing\n",
    "# population years\n",
    "\n",
    "# Next, I will need to make a combined dataframe which would be fips sightings \n",
    "# divided by decade population\n",
    "# (OR fips sightings divided by area, which would not have to change each\n",
    "# decade)\n",
    "\n",
    "# this will be the graphable value, and I could have it go by year or by decade"
   ]
  },
  {
   "cell_type": "code",
   "execution_count": null,
   "metadata": {},
   "outputs": [],
   "source": [
    "# I want to do a join with location.csv and counties.csv to \n",
    "# add the county areas from counties to location"
   ]
  },
  {
   "cell_type": "code",
   "execution_count": null,
   "metadata": {},
   "outputs": [],
   "source": [
    "### To finish this off, I need to accomplish two tasks:\n",
    "#\n",
    "# 1) Make the callback function that will:\n",
    "#   a) sort by each fips code and count occurrences per time period\n",
    "#   b) for all fips codes with no occurences in a given time period, \n",
    "#       append the fips code and the value zero for occurences.  \n",
    "#       This will be using county_set.difference(year_set)\n",
    "#\n",
    "# 2) Figure out the scaling solution for both population and for area\n",
    "#       I could even make this a user definable parameter\n",
    "\n",
    "# I could even make this queryable by shape"
   ]
  },
  {
   "cell_type": "code",
   "execution_count": null,
   "metadata": {},
   "outputs": [],
   "source": [
    "g = location.groupby([(location.index.year//10)*10, \"fips\"])[\"shape\"].count()"
   ]
  },
  {
   "cell_type": "code",
   "execution_count": null,
   "metadata": {},
   "outputs": [],
   "source": [
    "intermediate = g.reset_index()"
   ]
  },
  {
   "cell_type": "code",
   "execution_count": null,
   "metadata": {},
   "outputs": [],
   "source": [
    "intermediate"
   ]
  },
  {
   "cell_type": "code",
   "execution_count": null,
   "metadata": {},
   "outputs": [],
   "source": [
    "px.choropleth(data_frame=intermediate, animation_frame=\"datetime\", geojson=geojson, locations=\"fips\", color=\"shape\", scope=\"usa\")"
   ]
  },
  {
   "cell_type": "code",
   "execution_count": null,
   "metadata": {},
   "outputs": [],
   "source": []
  },
  {
   "cell_type": "code",
   "execution_count": null,
   "metadata": {},
   "outputs": [],
   "source": [
    "data = location.groupby([(location.index.year//10)*10])."
   ]
  },
  {
   "cell_type": "code",
   "execution_count": null,
   "metadata": {},
   "outputs": [],
   "source": [
    "data"
   ]
  },
  {
   "cell_type": "code",
   "execution_count": null,
   "metadata": {},
   "outputs": [],
   "source": []
  }
 ],
 "metadata": {
  "kernelspec": {
   "display_name": "env",
   "language": "python",
   "name": "python3"
  },
  "language_info": {
   "codemirror_mode": {
    "name": "ipython",
    "version": 3
   },
   "file_extension": ".py",
   "mimetype": "text/x-python",
   "name": "python",
   "nbconvert_exporter": "python",
   "pygments_lexer": "ipython3",
   "version": "3.10.12"
  },
  "orig_nbformat": 4
 },
 "nbformat": 4,
 "nbformat_minor": 2
}
