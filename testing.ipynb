{
 "cells": [
  {
   "cell_type": "code",
   "execution_count": 12,
   "metadata": {},
   "outputs": [],
   "source": [
    "import pandas as pd\n",
    "import numpy as np"
   ]
  },
  {
   "cell_type": "code",
   "execution_count": 13,
   "metadata": {},
   "outputs": [],
   "source": [
    "county_fips = pd.read_csv(\n",
    "    \"county_fips.csv\", index_col=0, dtype={\"fips\":object})\n",
    "population_fips = pd.read_csv(\n",
    "    \"population_fips.csv\", index_col=0, dtype={\"county_fips\":object})\n",
    "location = pd.read_csv(\n",
    "    \"location_raw.csv\", index_col=\"datetime\", \n",
    "    parse_dates=True, dtype={\"County.FIPS\":object})"
   ]
  },
  {
   "cell_type": "code",
   "execution_count": 4,
   "metadata": {},
   "outputs": [],
   "source": [
    "county_set = set(county_fips.fips)\n",
    "pop_set = set(population_fips.county_fips)\n",
    "location_set = set(location[\"County.FIPS\"])"
   ]
  },
  {
   "cell_type": "code",
   "execution_count": 5,
   "metadata": {},
   "outputs": [
    {
     "data": {
      "text/plain": [
       "True"
      ]
     },
     "execution_count": 5,
     "metadata": {},
     "output_type": "execute_result"
    }
   ],
   "source": [
    "# County set and location_set are both subsets of pop set.  Therefore, \n",
    "# the only imputation I will need from the pop set is to fill in decades that\n",
    "# are missing\n",
    "county_set.issubset(pop_set)"
   ]
  },
  {
   "cell_type": "code",
   "execution_count": 6,
   "metadata": {},
   "outputs": [
    {
     "data": {
      "text/plain": [
       "True"
      ]
     },
     "execution_count": 6,
     "metadata": {},
     "output_type": "execute_result"
    }
   ],
   "source": [
    "location_set.issubset(pop_set)"
   ]
  },
  {
   "cell_type": "code",
   "execution_count": 8,
   "metadata": {},
   "outputs": [
    {
     "data": {
      "text/plain": [
       "36"
      ]
     },
     "execution_count": 8,
     "metadata": {},
     "output_type": "execute_result"
    }
   ],
   "source": [
    "# these are populations that do not correspond to mapped counties\n",
    "len(pop_set.difference(county_set))"
   ]
  },
  {
   "cell_type": "code",
   "execution_count": 9,
   "metadata": {},
   "outputs": [
    {
     "data": {
      "text/plain": [
       "{'02063', '02066', '02158', '46102'}"
      ]
     },
     "execution_count": 9,
     "metadata": {},
     "output_type": "execute_result"
    }
   ],
   "source": [
    "# These are locations that will not be plotted\n",
    "location_set.difference(county_set)"
   ]
  },
  {
   "cell_type": "code",
   "execution_count": 11,
   "metadata": {},
   "outputs": [
    {
     "data": {
      "text/plain": [
       "435"
      ]
     },
     "execution_count": 11,
     "metadata": {},
     "output_type": "execute_result"
    }
   ],
   "source": [
    "# These are locations that have no sightings in any year but appear \n",
    "# in the counties geojson object.\n",
    "len(county_set.difference(location_set))"
   ]
  },
  {
   "cell_type": "code",
   "execution_count": 54,
   "metadata": {},
   "outputs": [
    {
     "data": {
      "text/plain": [
       "467"
      ]
     },
     "execution_count": 54,
     "metadata": {},
     "output_type": "execute_result"
    }
   ],
   "source": [
    "# 467 counties from population did not appear in the main dataset. This is fine\n",
    "len(pop_set.difference(location_set))"
   ]
  },
  {
   "cell_type": "code",
   "execution_count": 83,
   "metadata": {},
   "outputs": [],
   "source": [
    "t = pd.read_csv(\n",
    "    \"location_joined.csv\", index_col=\"datetime\",\n",
    "    parse_dates=True, dtype={\"County.FIPS\":object, \"fips\":object})"
   ]
  },
  {
   "cell_type": "code",
   "execution_count": 86,
   "metadata": {},
   "outputs": [
    {
     "data": {
      "text/plain": [
       "County.FIPS\n",
       "02063    4\n",
       "02066    4\n",
       "02158    2\n",
       "46102    5\n",
       "Name: County.FIPS, dtype: int64"
      ]
     },
     "execution_count": 86,
     "metadata": {},
     "output_type": "execute_result"
    }
   ],
   "source": [
    "t.loc[t[\"County.FIPS\"]!=t[\"fips\"]].groupby(\"County.FIPS\")[\"County.FIPS\"].count()"
   ]
  },
  {
   "cell_type": "code",
   "execution_count": null,
   "metadata": {},
   "outputs": [],
   "source": []
  }
 ],
 "metadata": {
  "kernelspec": {
   "display_name": "env",
   "language": "python",
   "name": "python3"
  },
  "language_info": {
   "codemirror_mode": {
    "name": "ipython",
    "version": 3
   },
   "file_extension": ".py",
   "mimetype": "text/x-python",
   "name": "python",
   "nbconvert_exporter": "python",
   "pygments_lexer": "ipython3",
   "version": "3.10.12"
  },
  "orig_nbformat": 4
 },
 "nbformat": 4,
 "nbformat_minor": 2
}
